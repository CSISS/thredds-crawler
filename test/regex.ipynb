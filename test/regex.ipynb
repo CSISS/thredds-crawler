{
 "cells": [
  {
   "cell_type": "code",
   "execution_count": 1,
   "metadata": {},
   "outputs": [],
   "source": [
    "import re"
   ]
  },
  {
   "cell_type": "code",
   "execution_count": 2,
   "metadata": {},
   "outputs": [],
   "source": [
    "date = r\"(19|20)\\d\\d[01]\\d[0123]\\d\"\n",
    "time = r\"(0[0-9]|1[0-9]|2[0-3])[0-5][0-9]\"\n",
    "date_time = date + r\"[_\\.T]\" + time\n"
   ]
  },
  {
   "cell_type": "code",
   "execution_count": 53,
   "metadata": {},
   "outputs": [
    {
     "data": {
      "text/plain": [
       "re.compile(r'[\\._](19|20)\\d\\d[01]\\d[0123]\\d[_\\.T](0[0-9]|1[0-9]|2[0-3])[0-5][0-9]\\b|[\\._](19|20)\\d\\d[01]\\d[0123]\\d\\b',\n",
       "re.UNICODE)"
      ]
     },
     "execution_count": 53,
     "metadata": {},
     "output_type": "execute_result"
    }
   ],
   "source": [
    "u = r\"[\\._]\"\n",
    "b = r\"\\b\"\n",
    "series_member_re = re.compile(u + date_time + b + '|' + u + date + b)\n",
    "series_member_re"
   ]
  },
  {
   "cell_type": "markdown",
   "metadata": {},
   "source": [
    "### Examples"
   ]
  },
  {
   "cell_type": "code",
   "execution_count": 54,
   "metadata": {},
   "outputs": [],
   "source": [
    "i1 = 'Level3_Composite_ntp_4km_20190218_1735.gini'\n",
    "i2 = 'asr15km.fix.2000010100.XLONG.nc'\n",
    "i3 = 'asr15km.fct.3D.20000101.nc'"
   ]
  },
  {
   "cell_type": "code",
   "execution_count": 55,
   "metadata": {},
   "outputs": [],
   "source": [
    "m1 = re.search(series_member_re, i1)\n",
    "m2 = re.search(series_member_re, i2)\n",
    "m3 = re.search(series_member_re, i3)"
   ]
  },
  {
   "cell_type": "code",
   "execution_count": 61,
   "metadata": {},
   "outputs": [
    {
     "data": {
      "text/plain": [
       "'asr15km.fct.3D.nc'"
      ]
     },
     "execution_count": 61,
     "metadata": {},
     "output_type": "execute_result"
    }
   ],
   "source": [
    "re.sub(series_member_re, '', i3)"
   ]
  },
  {
   "cell_type": "code",
   "execution_count": 1,
   "metadata": {},
   "outputs": [],
   "source": [
    "path = 'Unidata/NEXRAD/NationalComposite/GINI/ntp/4km/20190218/Level3_Composite_ntp_4km.gini'"
   ]
  },
  {
   "cell_type": "code",
   "execution_count": 3,
   "metadata": {},
   "outputs": [
    {
     "data": {
      "text/plain": [
       "'dsadasdas'"
      ]
     },
     "execution_count": 3,
     "metadata": {},
     "output_type": "execute_result"
    }
   ],
   "source": [
    "'dsadasdas'.split('/')[-1]"
   ]
  },
  {
   "cell_type": "code",
   "execution_count": null,
   "metadata": {},
   "outputs": [],
   "source": []
  }
 ],
 "metadata": {
  "kernelspec": {
   "display_name": "Python 3",
   "language": "python",
   "name": "python3"
  },
  "language_info": {
   "codemirror_mode": {
    "name": "ipython",
    "version": 3
   },
   "file_extension": ".py",
   "mimetype": "text/x-python",
   "name": "python",
   "nbconvert_exporter": "python",
   "pygments_lexer": "ipython3",
   "version": "3.6.5"
  }
 },
 "nbformat": 4,
 "nbformat_minor": 2
}
