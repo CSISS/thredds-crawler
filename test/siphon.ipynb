{
 "cells": [
  {
   "cell_type": "code",
   "execution_count": 5,
   "metadata": {},
   "outputs": [],
   "source": [
    "import sys\n",
    "import os\n",
    "\n",
    "sys.path.append(os.path.abspath('.'))\n",
    "sys.path.append(os.path.abspath('..'))\n",
    "\n",
    "from lib.siphon.catalog import TDSCatalog, Dataset, CatalogRef\n"
   ]
  },
  {
   "cell_type": "code",
   "execution_count": 6,
   "metadata": {},
   "outputs": [],
   "source": [
    "inv_cat = TDSCatalog('https://rda.ucar.edu/thredds/catalog/files/g/ds631.1/invariant/catalog.xml')\n",
    "fct2dcat = TDSCatalog('https://rda.ucar.edu/thredds/catalog/files/g/ds631.1/asr15.fcst3.2D/catalog.xml')\n",
    "radcat = TDSCatalog('http://thredds.ucar.edu/thredds/catalog/nexrad/composite/gini/ntp/catalog.xml')"
   ]
  },
  {
   "cell_type": "code",
   "execution_count": null,
   "metadata": {},
   "outputs": [],
   "source": []
  }
 ],
 "metadata": {
  "kernelspec": {
   "display_name": "Python 3",
   "language": "python",
   "name": "python3"
  },
  "language_info": {
   "codemirror_mode": {
    "name": "ipython",
    "version": 3
   },
   "file_extension": ".py",
   "mimetype": "text/x-python",
   "name": "python",
   "nbconvert_exporter": "python",
   "pygments_lexer": "ipython3",
   "version": "3.6.5"
  }
 },
 "nbformat": 4,
 "nbformat_minor": 2
}
